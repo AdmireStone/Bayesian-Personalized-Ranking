{
 "cells": [
  {
   "cell_type": "code",
   "execution_count": null,
   "metadata": {
    "collapsed": false
   },
   "outputs": [],
   "source": [
    "# -*- coding: utf-8 -*-\n",
    "# Matrix Factorization -- SGD\n",
    "\"\"\"\n",
    "data understanding\n",
    "train.txt size      4*80000  \n",
    "test.txt size       4*20000 \n",
    "user                943\n",
    "item                1682\n",
    " ____________________________________\n",
    "|userid | itemid | preference | time |\n",
    "|-------|--------|------------|------|\n",
    "|_______|________|____________|______|\n",
    "\n",
    "bui = mu + bu + bi\n",
    "\n",
    "\"\"\"\n",
    "# Parameters Preset\n",
    "# Regularization\n",
    "lamda4 = 0.05\n",
    "# Learning rate\n",
    "gamma = 0.01"
   ]
  },
  {
   "cell_type": "code",
   "execution_count": null,
   "metadata": {
    "collapsed": true
   },
   "outputs": [],
   "source": [
    "import os\n",
    "import numpy as np"
   ]
  },
  {
   "cell_type": "code",
   "execution_count": null,
   "metadata": {
    "collapsed": false
   },
   "outputs": [],
   "source": [
    "# tr_zise = file(\"train.txt\").read().count('\\n')\n",
    "# te_size = file(\"test.txt\").read().count('\\n')\n",
    "# print tr_size, te_size\n",
    "f1 = open(\"train.txt\")\n",
    "f2 = open(\"test.txt\")\n",
    "unum = 0\n",
    "inum = 0\n",
    "for it in xrange(80000):\n",
    "    record = f1.readline().split('\\t')\n",
    "    uid = int(record[0])\n",
    "    iid = int(record[1])\n",
    "    if(uid > unum):\n",
    "        unum = uid\n",
    "    if(iid > inum):\n",
    "        inum = iid\n",
    "        \n",
    "for it in xrange(20000):\n",
    "    record = f2.readline().split('\\t')\n",
    "    uid = int(record[0])\n",
    "    iid = int(record[1])\n",
    "    if(uid > unum):\n",
    "        unum = uid\n",
    "    if(iid > inum):\n",
    "        inum = iid\n",
    "print unum, inum"
   ]
  },
  {
   "cell_type": "code",
   "execution_count": null,
   "metadata": {
    "collapsed": false
   },
   "outputs": [],
   "source": [
    "\"\"\" Data load in, 943 users and 1682 items \"\"\"\n",
    "Rm = np.zeros((943, 1682))\n",
    "Tm = np.zeros((943, 1682))\n",
    "Pm = np.random.randn(943, 10) * 0.5\n",
    "Qm = np.random.randn(1682, 10) * 0.5\n",
    "\n",
    "f1.seek(0)\n",
    "for it in xrange(80000):\n",
    "    record = f1.readline().split('\\t')\n",
    "    u = int(record[0]) - 1\n",
    "    i = int(record[1]) - 1\n",
    "    Rm[u][i] = int(record[2]) - 1\n",
    "\n",
    "f2.seek(0)\n",
    "for it in xrange(20000):\n",
    "    record = f2.readline().split('\\t')\n",
    "    u = int(record[0]) - 1\n",
    "    i = int(record[1]) - 1\n",
    "    Tm[u][i] = int(record[2]) - 1"
   ]
  },
  {
   "cell_type": "code",
   "execution_count": null,
   "metadata": {
    "collapsed": false
   },
   "outputs": [],
   "source": [
    "def mu_overall(M):\n",
    "    \"\"\" mu -- overall average rating \"\"\"\n",
    "    tot = 0\n",
    "    active = 0\n",
    "    for u in xrange(943):\n",
    "        for i in xrange(1682):\n",
    "            tot += M[u][i]\n",
    "            active += 1\n",
    "    mu = tot/active\n",
    "    return mu"
   ]
  },
  {
   "cell_type": "code",
   "execution_count": null,
   "metadata": {
    "collapsed": false
   },
   "outputs": [],
   "source": [
    "def bias_item(M, mu):\n",
    "    \"\"\" bi -- observed deviations of item \"\"\"\n",
    "    bim = np.zeros((1682))\n",
    "    for i in xrange(1682):\n",
    "        tot = 0\n",
    "        for u in xrange(943):\n",
    "            tot += M[u][i]\n",
    "        bim[i] = tot/943 - mu\n",
    "    return bim\n",
    "\n",
    "#print bias_item(Rm, mu(Rm))\n",
    "\n",
    "def bias_user(M, mu):\n",
    "    \"\"\" bu -- observed deviations of user \"\"\"\n",
    "    bum = np.zeros((943))\n",
    "    for u in xrange(943):\n",
    "        tot = 0\n",
    "        for i in xrange(1682):\n",
    "            tot += M[u][i]\n",
    "        bum[u] = tot/1682 - mu\n",
    "    return bum\n",
    "\n",
    "#print bias_user(Rm, mu(Rm))"
   ]
  },
  {
   "cell_type": "code",
   "execution_count": null,
   "metadata": {
    "collapsed": true
   },
   "outputs": [],
   "source": [
    "def train():\n",
    "    \"\"\" Training process, stochasitc gradient descent.\"\"\"\n",
    "    global Pm\n",
    "    global Qm\n",
    "    mu = mu_overall(Rm) \n",
    "    bum = bias_user(Rm, mu)\n",
    "    bim = bias_item(Rm, mu)\n",
    "    for u in xrange(unum):\n",
    "        for i in xrange(inum):\n",
    "            if(Rm[u][i] != 0):\n",
    "                rui = Rm[u][i] \n",
    "                rui_hat = mu + bum[u] + bim[i] + Pm[u].dot(Qm[i].T)\n",
    "                eui = rui - rui_hat\n",
    "                t_bu = bum[u]\n",
    "                t_bi = bim[i]\n",
    "                t_qi = Qm[i]\n",
    "                t_pu = Pm[u]\n",
    "                bum[u] = t_bu + gamma *(eui - lamda4 * t_bu)\n",
    "                bim[i] = t_bi + gamma *(eui - lamda4 * t_bi)\n",
    "                Qm[i] = t_qi + gamma *(eui * t_pu - lamda4 * t_qi)\n",
    "                Pm[u] = t_pu + gamma *(eui * t_qi - lamda4 * t_pu)"
   ]
  },
  {
   "cell_type": "code",
   "execution_count": null,
   "metadata": {
    "collapsed": false
   },
   "outputs": [],
   "source": [
    "def test(M, up, iq):\n",
    "    mu = mu_overall(M)\n",
    "    bum = bias_user(M, mu)\n",
    "    bim = bias_item(M, mu)\n",
    "    active = 0\n",
    "    loss = 0\n",
    "    for u in range(unum):\n",
    "        for i in range(inum):\n",
    "            if(M[u][i] != 0):\n",
    "                active += 1\n",
    "                rui = M[u][i]\n",
    "                rui_hat = mu + bum[u] + bim[i] + np.dot(Pm[u], Qm[i].T)\n",
    "                eui = rui - rui_hat\n",
    "                loss += eui * eui\n",
    "    loss = np.sqrt(loss/active)\n",
    "    return loss"
   ]
  },
  {
   "cell_type": "code",
   "execution_count": null,
   "metadata": {
    "collapsed": true
   },
   "outputs": [],
   "source": [
    "for i in xrange(50):\n",
    "    print i, \n",
    "    train()\n",
    "    final = test(Tm, Pm, Qm)\n",
    "    print final"
   ]
  },
  {
   "cell_type": "markdown",
   "metadata": {
    "collapsed": true
   },
   "source": [
    "###Result\n",
    "0 2.71621852146\n",
    "1 2.66202359461\n",
    "2 2.46879928892\n",
    "3 1.97609090194\n",
    "4 1.48417942887\n",
    "5 1.23412409035\n",
    "6 1.1231249733\n",
    "7 1.07025902377\n",
    "8 1.04183826714\n",
    "9 1.02450113388\n",
    "10 1.01282936692\n",
    "11 1.0044357988\n",
    "12 0.998136746198\n",
    "13 0.993272221952\n",
    "14 0.989437934952\n",
    "15 0.986368904223\n",
    "16 0.983882983894\n",
    "17 0.98185051682\n",
    "18 0.980176659035\n",
    "19 0.978790458074\n",
    "20 0.97763780775\n",
    "21 0.976676752445\n",
    "22 0.975874274028\n",
    "23 0.975204043969\n",
    "24 0.97464482004\n",
    "25 0.974179282997\n",
    "26 0.973793179389\n",
    "27 0.973474681054\n",
    "28 0.973213900353\n",
    "29 0.973002518866\n",
    "30 0.972833499788\n",
    "31 0.972700862703\n",
    "32 0.972599505327\n",
    "33 0.972525060908\n",
    "34 0.972473782956\n",
    "35 0.972442451055\n",
    "36 0.972428293137\n",
    "37 0.972428920702\n",
    "38 0.972442274349\n",
    "39 0.972466577616\n",
    "40 0.972500297606\n",
    "41 0.972542111231\n",
    "42 0.972590876149\n",
    "43 0.972645605697\n",
    "44 0.972705447228\n",
    "45 0.972769663394\n",
    "46 0.972837615979\n",
    "47 0.972908751942\n",
    "48 0.9729825914\n",
    "49 0.973058717291"
   ]
  },
  {
   "cell_type": "code",
   "execution_count": null,
   "metadata": {
    "collapsed": true
   },
   "outputs": [],
   "source": []
  }
 ],
 "metadata": {
  "kernelspec": {
   "display_name": "Python [Root]",
   "language": "python",
   "name": "Python [Root]"
  },
  "language_info": {
   "codemirror_mode": {
    "name": "ipython",
    "version": 2
   },
   "file_extension": ".py",
   "mimetype": "text/x-python",
   "name": "python",
   "nbconvert_exporter": "python",
   "pygments_lexer": "ipython2",
   "version": "2.7.12"
  }
 },
 "nbformat": 4,
 "nbformat_minor": 0
}
